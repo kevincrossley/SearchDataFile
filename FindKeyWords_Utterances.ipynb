{
 "cells": [
  {
   "cell_type": "code",
   "execution_count": 186,
   "metadata": {
    "collapsed": false,
    "scrolled": true
   },
   "outputs": [
    {
     "name": "stderr",
     "output_type": "stream",
     "text": [
      "C:\\Users\\IBM_ADMIN\\Anaconda3\\lib\\site-packages\\IPython\\core\\interactiveshell.py:2717: DtypeWarning: Columns (2,3) have mixed types. Specify dtype option on import or set low_memory=False.\n",
      "  interactivity=interactivity, compiler=compiler, result=result)\n"
     ]
    }
   ],
   "source": [
    "import pandas as pd\n",
    "from IPython.display import display, HTML\n",
    "import csv\n",
    "\n",
    "#Review the data file you are trying to filter, and specify the columnts needed\n",
    "#make sure your log file is in the same folder as your jupyter notebook\n",
    "\n",
    "required_columns =['Conversation #', 'Step #', 'Date Time', 'Utterance', 'Response', 'In Filter']\n",
    "df = pd.read_csv('data.csv')[required_columns]\n",
    "pd.set_option('max_colwidth', 250)\n",
    "outDf = pd.DataFrame()\n",
    "\n",
    "temp_df = df[df.Utterance.notnull()]\n",
    "\n",
    "#Or if you wanted to search through responses:  temp_df = df[df.Response.notnull()]\n",
    "\n",
    "utterance_df = temp_df.iloc[:,0:5]\n"
   ]
  },
  {
   "cell_type": "code",
   "execution_count": null,
   "metadata": {
    "collapsed": true
   },
   "outputs": [],
   "source": []
  },
  {
   "cell_type": "code",
   "execution_count": 193,
   "metadata": {
    "collapsed": false,
    "scrolled": false
   },
   "outputs": [
    {
     "name": "stderr",
     "output_type": "stream",
     "text": [
      "C:\\Users\\IBM_ADMIN\\Anaconda3\\lib\\site-packages\\ipykernel\\__main__.py:13: UserWarning: Boolean Series key will be reindexed to match DataFrame index.\n"
     ]
    },
    {
     "data": {
      "text/html": [
       "<div>\n",
       "<style scoped>\n",
       "    .dataframe tbody tr th:only-of-type {\n",
       "        vertical-align: middle;\n",
       "    }\n",
       "\n",
       "    .dataframe tbody tr th {\n",
       "        vertical-align: top;\n",
       "    }\n",
       "\n",
       "    .dataframe thead th {\n",
       "        text-align: right;\n",
       "    }\n",
       "</style>\n",
       "<table border=\"1\" class=\"dataframe\">\n",
       "  <thead>\n",
       "    <tr style=\"text-align: right;\">\n",
       "      <th></th>\n",
       "      <th>Conversation #</th>\n",
       "      <th>Step #</th>\n",
       "      <th>Date Time</th>\n",
       "      <th>Utterance</th>\n",
       "      <th>Response</th>\n",
       "    </tr>\n",
       "  </thead>\n",
       "  <tbody>\n",
       "  </tbody>\n",
       "</table>\n",
       "</div>"
      ],
      "text/plain": [
       "Empty DataFrame\n",
       "Columns: [Conversation #, Step #, Date Time, Utterance, Response]\n",
       "Index: []"
      ]
     },
     "metadata": {},
     "output_type": "display_data"
    }
   ],
   "source": [
    "#Filter results that includes the key words you are looking for\n",
    "\n",
    "filtered_df = utterance_df[(utterance_df.Utterance.str.contains(\"(?i)key_word1\", regex=True))&\n",
    "                          (utterance_df.Utterance.str.contains(\"(?i)key_word2\", regex=True))\n",
    "                          ]\n",
    "\n",
    "#You can take the results from filter_df, and further filter it, resulted in another created another data frame\n",
    "\n",
    "filtered3_df=filtered_df[(utterance_df.Utterance.str.contains(\"(?i)how long\", regex=True))|\n",
    "                       (utterance_df.Utterance.str.contains(\"(?i)how much time\", regex=True))]\n",
    "                                         \n",
    "##Filter results that exclude the specified key word\n",
    "filtered2_df=filtered_df[(utterance_df.Utterance.str.contains(\"(?i)fast\", regex=True)==False)]\n",
    "                       \n",
    "#If you wanted to search through responses: \n",
    "#filtered_df = utterance_df[(utterance_df.Response.str.contains(\"(?i)\", regex=True))] \n",
    "    \n",
    "display(filtered2_df)\n"
   ]
  },
  {
   "cell_type": "code",
   "execution_count": 188,
   "metadata": {
    "collapsed": true
   },
   "outputs": [],
   "source": [
    "#print the results\n",
    "\n",
    "df_part = filtered2_df[\"Utterance\"].to_frame()\n",
    "df_part['intent'] = 'label'\n",
    "\n",
    "#df_part['Response'] = ' '\n",
    "\n",
    "outDf = outDf.append(df_part)"
   ]
  },
  {
   "cell_type": "code",
   "execution_count": 189,
   "metadata": {
    "collapsed": false
   },
   "outputs": [],
   "source": [
    "outDf.rename(columns={'Utterance': 'utterance'}, inplace=True)\n",
    "outDf.to_csv('17-1.csv', encoding='utf-8', quoting=csv.QUOTE_ALL, index=False)"
   ]
  },
  {
   "cell_type": "code",
   "execution_count": null,
   "metadata": {
    "collapsed": true
   },
   "outputs": [],
   "source": []
  }
 ],
 "metadata": {
  "anaconda-cloud": {},
  "kernelspec": {
   "display_name": "Python [default]",
   "language": "python",
   "name": "python3"
  },
  "language_info": {
   "codemirror_mode": {
    "name": "ipython",
    "version": 3
   },
   "file_extension": ".py",
   "mimetype": "text/x-python",
   "name": "python",
   "nbconvert_exporter": "python",
   "pygments_lexer": "ipython3",
   "version": "3.5.2"
  }
 },
 "nbformat": 4,
 "nbformat_minor": 2
}

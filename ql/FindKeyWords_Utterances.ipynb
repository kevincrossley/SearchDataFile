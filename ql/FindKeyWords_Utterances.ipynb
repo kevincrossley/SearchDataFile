{
 "cells": [
  {
   "cell_type": "code",
   "execution_count": 34,
   "metadata": {
    "scrolled": true
   },
   "outputs": [],
   "source": [
    "import pandas as pd\n",
    "from IPython.display import display, HTML\n",
    "import csv\n",
    "\n",
    "\n"
   ]
  },
  {
   "cell_type": "code",
   "execution_count": 35,
   "metadata": {},
   "outputs": [],
   "source": [
    "df = pd.read_csv('df2.csv')\n",
    "pd.set_option('max_colwidth', 300)\n",
    "outDf = pd.DataFrame()\n",
    "\n",
    "temp_df = df[df.notnull()]"
   ]
  },
  {
   "cell_type": "code",
   "execution_count": 36,
   "metadata": {},
   "outputs": [
    {
     "data": {
      "text/html": [
       "<div>\n",
       "<style scoped>\n",
       "    .dataframe tbody tr th:only-of-type {\n",
       "        vertical-align: middle;\n",
       "    }\n",
       "\n",
       "    .dataframe tbody tr th {\n",
       "        vertical-align: top;\n",
       "    }\n",
       "\n",
       "    .dataframe thead th {\n",
       "        text-align: right;\n",
       "    }\n",
       "</style>\n",
       "<table border=\"1\" class=\"dataframe\">\n",
       "  <thead>\n",
       "    <tr style=\"text-align: right;\">\n",
       "      <th></th>\n",
       "      <th>remove</th>\n",
       "      <th>Text</th>\n",
       "    </tr>\n",
       "  </thead>\n",
       "  <tbody>\n",
       "    <tr>\n",
       "      <th>0</th>\n",
       "      <td>0</td>\n",
       "      <td>: Thanks for letting Quicken Loans help you with your mortgage. A team member will be with you shortly.</td>\n",
       "    </tr>\n",
       "    <tr>\n",
       "      <th>1</th>\n",
       "      <td>1</td>\n",
       "      <td>: All Mortgage Experts are currently busy. We will be with you as soon as a Team Member is available. You are number 3 in line. Thank you for your patience!</td>\n",
       "    </tr>\n",
       "    <tr>\n",
       "      <th>2</th>\n",
       "      <td>2</td>\n",
       "      <td>: All Mortgage Experts are currently busy. We will be with you as soon as a Team Member is available. You are number 3 in line. Thank you for your patience!</td>\n",
       "    </tr>\n",
       "    <tr>\n",
       "      <th>3</th>\n",
       "      <td>3</td>\n",
       "      <td>:</td>\n",
       "    </tr>\n",
       "    <tr>\n",
       "      <th>4</th>\n",
       "      <td>4</td>\n",
       "      <td>: For your security, if you would like to close the chat session please click the &amp;quot;X&amp;quot; button on the top right of the chat window.&lt;br /&gt;&lt;br /&gt;You are now chatting with Bethany Hall.\\r</td>\n",
       "    </tr>\n",
       "  </tbody>\n",
       "</table>\n",
       "</div>"
      ],
      "text/plain": [
       "   remove  \\\n",
       "0       0   \n",
       "1       1   \n",
       "2       2   \n",
       "3       3   \n",
       "4       4   \n",
       "\n",
       "                                                                                                                                                                                               Text  \n",
       "0                                                                                           : Thanks for letting Quicken Loans help you with your mortgage. A team member will be with you shortly.  \n",
       "1                                      : All Mortgage Experts are currently busy. We will be with you as soon as a Team Member is available. You are number 3 in line. Thank you for your patience!  \n",
       "2                                      : All Mortgage Experts are currently busy. We will be with you as soon as a Team Member is available. You are number 3 in line. Thank you for your patience!  \n",
       "3                                                                                                                                                                                                :   \n",
       "4  : For your security, if you would like to close the chat session please click the &quot;X&quot; button on the top right of the chat window.<br /><br />You are now chatting with Bethany Hall.\\r  "
      ]
     },
     "execution_count": 36,
     "metadata": {},
     "output_type": "execute_result"
    }
   ],
   "source": [
    "temp_df.columns = ['remove','Text']\n",
    "temp_df.head()"
   ]
  },
  {
   "cell_type": "code",
   "execution_count": 37,
   "metadata": {},
   "outputs": [
    {
     "data": {
      "text/plain": [
       "['remove', 'Text']"
      ]
     },
     "execution_count": 37,
     "metadata": {},
     "output_type": "execute_result"
    }
   ],
   "source": [
    "list(temp_df.columns.values)"
   ]
  },
  {
   "cell_type": "code",
   "execution_count": 38,
   "metadata": {},
   "outputs": [],
   "source": [
    "#temp_df.drop(temp_df.columns.difference(['Transcript']), inplace=True)\n",
    "temp_df = temp_df['Text']"
   ]
  },
  {
   "cell_type": "code",
   "execution_count": 39,
   "metadata": {},
   "outputs": [
    {
     "data": {
      "text/plain": [
       "0                                                                                             : Thanks for letting Quicken Loans help you with your mortgage. A team member will be with you shortly.\n",
       "1                                        : All Mortgage Experts are currently busy. We will be with you as soon as a Team Member is available. You are number 3 in line. Thank you for your patience!\n",
       "2                                        : All Mortgage Experts are currently busy. We will be with you as soon as a Team Member is available. You are number 3 in line. Thank you for your patience!\n",
       "3                                                                                                                                                                                                  : \n",
       "4    : For your security, if you would like to close the chat session please click the &quot;X&quot; button on the top right of the chat window.<br /><br />You are now chatting with Bethany Hall.\\r\n",
       "Name: Text, dtype: object"
      ]
     },
     "execution_count": 39,
     "metadata": {},
     "output_type": "execute_result"
    }
   ],
   "source": [
    "temp_df.head()"
   ]
  },
  {
   "cell_type": "code",
   "execution_count": 40,
   "metadata": {},
   "outputs": [],
   "source": [
    "#Review the data file you are trying to filter, and specify the columnts needed\n",
    "#make sure your log file is in the same folder as your jupyter notebook\n",
    "\n",
    "#required_columns =['Transcript]\n",
    "#df = pd.read_csv('df2.csv')[required_columns]\n",
    "\n",
    "\n",
    "\n",
    "#temp_df = df[df.Transcript.notnull()]"
   ]
  },
  {
   "cell_type": "code",
   "execution_count": 41,
   "metadata": {
    "scrolled": false
   },
   "outputs": [],
   "source": [
    "#Filter results that includes:\n",
    "\n",
    "    #More than one word:\n",
    "\n",
    "#filtered_df = temp_df[(temp_df.Transcript.str.contains(\"(?i)key_word1\", regex=True))&\n",
    "#                          (temp_df.Transcript.str.contains(\"(?i)key_word2\", regex=True))]\n",
    "\n",
    "    \n",
    "    # Word1 OR Word2:\n",
    "    #You can take the results from filter_df, and further filter it\n",
    "\n",
    "#filtered3_df=temp_df[(temp_df.Transcript.str.contains(\"(?i)how long\", regex=True))|\n",
    "#                       (temp_df.Transcript.str.contains(\"(?i)how much time\", regex=True))]\n",
    "                                         \n",
    "    #Or lines that exclude specific words:\n",
    "##Filter results that exclude the specified key word\n",
    "#filtered2_df=temp_df[(temp_df.Transcript.str.contains(\"(?i)fast\", regex=True)==False)]\n",
    "\n",
    "#-------------------------------------------------------------------------------------------------------\n",
    "#Searching for intent #Greeting:\n",
    "\n",
    "filtered_df=temp_df[(temp_df.str.contains(\"(?i)hi\", regex=True))|\n",
    "                       (temp_df.str.contains(\"(?i)hello\", regex=True))|\n",
    "                       (temp_df.str.contains(\"(?i)greeting\", regex=True))|\n",
    "                       (temp_df.str.contains(\"(?i)hey\", regex=True))]\n",
    "\n"
   ]
  },
  {
   "cell_type": "code",
   "execution_count": 42,
   "metadata": {},
   "outputs": [
    {
     "data": {
      "text/plain": [
       "6                                                                                                                                                                           You: Hi.  Just wondering if rates are good enough for us to consider a refi?  we currently have a 30 year fixed with 3.875% interest rate.\n",
       "7                                                                                                                                 Bethany Hall: <span>Hello! My name is Bethany Hall, I am a Servicing Advocate with Client Relations. I can help get you to the right place! Who am I speaking with today? </span> \\r\n",
       "8                                                                                                                                                                                                                                                                                                   You: This is Erica\n",
       "9                                                                                                                     Bethany Hall: Hi Erica! Thanks for reaching out. I can get you to a licensed loan specialist who can look into the current rates for you. Before I do, did you have any other questions today?\\r\n",
       "12                                                                                                                                                                                                                                              : Please wait while your chat is transferred to the appropriate group.\n",
       "13                                                                                                                                                                                                                                                            Bethany Hall: hi team, client interested in refi rates\\r\n",
       "17                                                                                                                                                                                                                                                                        Julie Kaplan: Hi Erica, how are you today?\\r\n",
       "23                                                                                                                                                                                                                                              : Please wait while your chat is transferred to the appropriate group.\n",
       "27                                                                                                                                                                                                          Bethany: Hi Nate - I am looking for information on home equity loans. Is this osmething you can help with?\n",
       "29                                                                                                                                                                                                                                                Bethany: hi gary - i am looking for information on home equity loans\n",
       "30                                                                                                                                                                                                                                                                          Bethany: is this a product you guys offer?\n",
       "42                                                                                                                                                                                                                                                                                     Maggie Herrinton-Cox: Hi Aimee!\n",
       "45          Maggie Herrinton-Cox: I'm glad to hear it! It looks like you were routed to chat with us today because you've logged into an account that was set up a little over a year ago or so. To proceed, you'd need to start a new application on the site, so we can update everything, or we can walk you thr...\n",
       "53                                                                                                                                                                                                                                                                                              Chi Tran: Hi Sandra,\\r\n",
       "54                                                                                                                                                                                                                                                   Chi Tran: may I follow up loan docs please? expect signing today.\n",
       "55                                                                                                                                                                                                                                                      Sandra Zamudio: Hi Chi Tran, this is not clear to close yet.\\r\n",
       "57                                                                                                                                                                                                                                                                        Chi Tran: do you need anything else from us?\n",
       "58                                                                                                                                                                                                                                                                                   Sandra Zamudio: Not at this time.\n",
       "59                                                                                                                                                                                                                                                                                                 Chi Tran: thank you\n",
       "68                                                                                                                                       Ryan Cross: <span>Hello, my name is Ryan and I am a servicing advocate with Quicken Loans Client Relations. With whom do I have the pleasure of chatting with today?</span>\\r\n",
       "73                                                                                                                                                                                        Ryan Cross: Certainly! Do you have a date that you would like the payoff statement to be good through (within next 30 days)?\n",
       "84                                          Kassi I. : <span>Hello, my name is Kassi I.  and I will be your resolution expert. Thank you for taking the time to chat with us today! Just so you know all chats are monitored and recorded for quality assurance. Who do I have the pleasure of speaking with?</span>\\r\n",
       "86                                                                                                                                                                                                                        Kassi I. : Hello Robert! I see that your loan is paid in full, how can I assist you today?\\r\n",
       "90                                                                                                                                                              Kassi I. : Thank you for reaching out! I am going to take a moment to bring in a team member from our Client Relations team to look into that for you!\n",
       "92                                                                                                                                                                                                                                         : Please wait while I transfer the chat to the best suited Mortgage Expert.\n",
       "103                                                                                                                                                                      Bethany Hall: <span>Hello! My name is Bethany Hall, I am a Servicing Advocate with Client Relations. Who am I speaking with today? </span> \\r\n",
       "105                                                                                                                                                                                                                                                                 Bethany Hall: Hi John, how may I help you today?\\r\n",
       "107         Bethany Hall: Thanks for reaching out John! The mortgage insurance is a requirement for all FHA loans due to FHA guidelines. MIP is collected for 11 years or for the life of the loan, depending on your LTV from closing. Based on your LTV at closing being 90% or less, the MIP is collected for 11...\n",
       "110                                                                                                                                                                                                                                                       Bethany Hall: Is there anything else we can help with today?\n",
       "119                                                                                                                                                                                                                                               Josh Dominique: <span>Hi Cynthia Rogers, how are you today?</span>\\r\n",
       "                                                                                                                                                              ...                                                                                                                                                     \n",
       "2228045                                                                                                                                                                                                                                                                                     Kelly Parker: At this time\n",
       "2228047                                                                                                                                                                                                                                                               Kelly Parker: I am 13 years this month actually!\n",
       "2228051                                                                                                                                                                                                                                                                 Justin Fendelet: Can you do that this morning?\n",
       "2228052                                                                                                                                                                                                                                                             Kelly Parker: Not this morning. I can later though\n",
       "2228054                                                                                                                                                                                   Justin Fendelet: other than that, your credit is good. So we just need to make sure the income is high enough to qualify. \\r\n",
       "2228055                                                                                                                                                                                                                                            Justin Fendelet: what time you thinking you may be able to do that?\n",
       "2228059                                                                                                                                                                                                                                       Justin Fendelet: you created a password to get to this point, correct?\\r\n",
       "2228077                                                                                                                                                                                                                      Matthew Necci: we have a specific home picked out and intend on making an offer this week\n",
       "2228078                                                                                                                                                                                              Justin Fendelet: ok, and what purchase price are you thinking you want me to get you approved at for the offer?\\r\n",
       "2228083                                                                                                                                                                                          Matthew Necci: I'm an equity partner of a law firm, which is why I technically need to list myself as self-employed\\r\n",
       "2228085                                                                                                                                                                                                                                         Justin Fendelet: what percentage ownership do you have in the law firm\n",
       "2228091                                                                                                                                          Matthew Necci: typically ranges from $240k to $325k.  The $240k I received previously was related to when my ownership level was lower.  The percentage has increased\n",
       "2228096                                                                                                                                                          Matthew Necci: I don't have paystubs or W2s.  I can show the money that was wired into my account for this month's draw and I can provide tax returns\n",
       "2228113                                                                                                                                                                                                                    Justin Fendelet: do you report yourself as an scorp, parternship, or sole proprietorship?\\r\n",
       "2228125                                                                                                                                                                                Justin Fendelet: you should have a personal 1065 for a partnership, that is specific to you and your earnings/distributions. \\r\n",
       "2228126                        Matthew Necci: ok, I'll check, that might actually be included with my tax return.  I will upload everything today.  Is receiving an approval letter today realistic timing-wise?  We are doing a second showing of the house tomorrow and were hoping to make an offer at that point\\r\n",
       "2228127                                                                                                       Justin Fendelet: within 4 or 5 hours of getting the income and asset documents, ill be able to provide an approval letter showing you are fully approved and income/credit/assets have been verified. \\r\n",
       "2228128                                                                                                                                                                                                                                          Matthew Necci: great, I'll start collecting everything.  Thank you.\\r\n",
       "2228130                                                                                                                      Justin Fendelet: ill get a notice when you upload documents, but do me a favor and shoot me a call/email/text once you think you have uploaded everything. just to make sure im on it. \\r\n",
       "2228141                                                                                                     Tony Bardawil: Just to confirm, in the event that we're disconnected, which is the best number on which to contact you?<br><br>(Should you prefer to speak by phone, my direct line is (313) 545-0256). \\r\n",
       "2228143                                                                                                                                              Tony Bardawil: A pleasure. While I'm pulling up your profile, please fill me in! Do you already have a home in mind? Or are you just beginning to look around? \\r\n",
       "2228152                                                                                                                                                                       Tony Bardawil: I remember! We were chatting yesterday afternoon/evening. I'm your banker. Refreshing the page didn't work, I take it? \\r\n",
       "2228157                                                                   Tony Bardawil: Understood. Thank you. <br><br>Glad we're clearing this up! I have two \"Franlin county schools\" input on Rocket from you; one for each of you. <br><br>Which is the correct hire date? Did Monica begin 02/2005 or 03/2009?\\r\n",
       "2228163                                                                                                                                                                                                                                                                                   Greg Thompson: I think it 14\n",
       "2228168                                                                                                                                                       Tony Bardawil: Do either of you have any other source of income or any other regular expenditures (e.g. alimony, child support, separate maintenance?)\\r\n",
       "2228173     Tony Bardawil: <span>She keeps busy! We'll dig into that in a second. Thank you. I've made a note of it.<br><br>So let's overcome the only thing seeming to hold us up, here, which is credit:<br><br>To pull your credit report I'll just need your full legal name, current address, as well as your ...\n",
       "2228197                                                                                                                                                                                                                                      Tony Bardawil: Just a few moments, please while I pull up that report. \\r\n",
       "2228208                                                                                                                                                          Tony Bardawil: I don't have a phone number at all for you. We don't need to speak now at all, but I do need to input a number. Which would be best?\\r\n",
       "2228211                                                                                                                                                                                                                                                                          Tony Bardawil: (still crunching away)\n",
       "2228227                                                                                                                                                                     Tony Bardawil: Great! I'll keep this chat open so that you can confirm that it worked (or didn't). Don't want any more tech snags for you!\n",
       "Name: Text, Length: 481073, dtype: object"
      ]
     },
     "metadata": {},
     "output_type": "display_data"
    }
   ],
   "source": [
    "display (filtered_df)"
   ]
  },
  {
   "cell_type": "code",
   "execution_count": 43,
   "metadata": {},
   "outputs": [],
   "source": [
    "#print the results\n",
    "\n",
    "df_part = filtered_df.to_frame()\n",
    "df_part['intent'] = 'greeting'\n",
    "\n",
    "#df_part['Response'] = ' '\n",
    "\n",
    "outDf = outDf.append(df_part)"
   ]
  },
  {
   "cell_type": "code",
   "execution_count": 44,
   "metadata": {},
   "outputs": [],
   "source": [
    "outDf.rename(columns={'Utterance': 'utterance'}, inplace=True)\n",
    "outDf.to_csv('1.csv', encoding='utf-8', quoting=csv.QUOTE_ALL, index=False)"
   ]
  },
  {
   "cell_type": "code",
   "execution_count": null,
   "metadata": {},
   "outputs": [],
   "source": []
  }
 ],
 "metadata": {
  "anaconda-cloud": {},
  "kernelspec": {
   "display_name": "Python 3",
   "language": "python",
   "name": "python3"
  },
  "language_info": {
   "codemirror_mode": {
    "name": "ipython",
    "version": 3
   },
   "file_extension": ".py",
   "mimetype": "text/x-python",
   "name": "python",
   "nbconvert_exporter": "python",
   "pygments_lexer": "ipython3",
   "version": "3.6.5"
  }
 },
 "nbformat": 4,
 "nbformat_minor": 2
}

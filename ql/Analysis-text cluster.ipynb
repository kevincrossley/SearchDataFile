{
 "cells": [
  {
   "cell_type": "code",
   "execution_count": 11,
   "metadata": {
    "collapsed": true,
    "scrolled": true
   },
   "outputs": [],
   "source": [
    "import pandas as pd\n",
    "import csv\n",
    "\n",
    "\n"
   ]
  },
  {
   "cell_type": "code",
   "execution_count": 12,
   "metadata": {
    "collapsed": false
   },
   "outputs": [],
   "source": [
    "df = pd.read_csv('df2-2.csv')\n",
    "pd.set_option('max_colwidth', 500)\n",
    "\n",
    "\n"
   ]
  },
  {
   "cell_type": "code",
   "execution_count": 13,
   "metadata": {
    "collapsed": false
   },
   "outputs": [
    {
     "data": {
      "text/html": [
       "<div>\n",
       "<style scoped>\n",
       "    .dataframe tbody tr th:only-of-type {\n",
       "        vertical-align: middle;\n",
       "    }\n",
       "\n",
       "    .dataframe tbody tr th {\n",
       "        vertical-align: top;\n",
       "    }\n",
       "\n",
       "    .dataframe thead th {\n",
       "        text-align: right;\n",
       "    }\n",
       "</style>\n",
       "<table border=\"1\" class=\"dataframe\">\n",
       "  <thead>\n",
       "    <tr style=\"text-align: right;\">\n",
       "      <th></th>\n",
       "      <th>Unnamed: 0</th>\n",
       "      <th>0</th>\n",
       "    </tr>\n",
       "  </thead>\n",
       "  <tbody>\n",
       "    <tr>\n",
       "      <th>0</th>\n",
       "      <td>0</td>\n",
       "      <td>: Thanks for letting Quicken Loans help you with your mortgage. A team member will be with you shortly.</td>\n",
       "    </tr>\n",
       "    <tr>\n",
       "      <th>1</th>\n",
       "      <td>1</td>\n",
       "      <td>: All Mortgage Experts are currently busy. We will be with you as soon as a Team Member is available. You are number 3 in line. Thank you for your patience!</td>\n",
       "    </tr>\n",
       "    <tr>\n",
       "      <th>2</th>\n",
       "      <td>2</td>\n",
       "      <td>: All Mortgage Experts are currently busy. We will be with you as soon as a Team Member is available. You are number 3 in line. Thank you for your patience!</td>\n",
       "    </tr>\n",
       "    <tr>\n",
       "      <th>3</th>\n",
       "      <td>3</td>\n",
       "      <td>:</td>\n",
       "    </tr>\n",
       "    <tr>\n",
       "      <th>4</th>\n",
       "      <td>4</td>\n",
       "      <td>: For your security, if you would like to close the chat session please click the &amp;quot;X&amp;quot; button on the top right of the chat window.&lt;br /&gt;&lt;br /&gt;You are now chatting with Bethany Hall.\\r</td>\n",
       "    </tr>\n",
       "    <tr>\n",
       "      <th>5</th>\n",
       "      <td>5</td>\n",
       "      <td>:</td>\n",
       "    </tr>\n",
       "    <tr>\n",
       "      <th>6</th>\n",
       "      <td>6</td>\n",
       "      <td>You: Hi.  Just wondering if rates are good enough for us to consider a refi?  we currently have a 30 year fixed with 3.875% interest rate.</td>\n",
       "    </tr>\n",
       "    <tr>\n",
       "      <th>7</th>\n",
       "      <td>7</td>\n",
       "      <td>Bethany Hall: &lt;span&gt;Hello! My name is Bethany Hall, I am a Servicing Advocate with Client Relations. I can help get you to the right place! Who am I speaking with today? &lt;/span&gt; \\r</td>\n",
       "    </tr>\n",
       "    <tr>\n",
       "      <th>8</th>\n",
       "      <td>8</td>\n",
       "      <td>You: This is Erica</td>\n",
       "    </tr>\n",
       "    <tr>\n",
       "      <th>9</th>\n",
       "      <td>9</td>\n",
       "      <td>Bethany Hall: Hi Erica! Thanks for reaching out. I can get you to a licensed loan specialist who can look into the current rates for you. Before I do, did you have any other questions today?\\r</td>\n",
       "    </tr>\n",
       "    <tr>\n",
       "      <th>10</th>\n",
       "      <td>10</td>\n",
       "      <td>You: No, that is my only question. Thank you.\\r</td>\n",
       "    </tr>\n",
       "  </tbody>\n",
       "</table>\n",
       "</div>"
      ],
      "text/plain": [
       "    Unnamed: 0  \\\n",
       "0            0   \n",
       "1            1   \n",
       "2            2   \n",
       "3            3   \n",
       "4            4   \n",
       "5            5   \n",
       "6            6   \n",
       "7            7   \n",
       "8            8   \n",
       "9            9   \n",
       "10          10   \n",
       "\n",
       "                                                                                                                                                                                                    0  \n",
       "0                                                                                             : Thanks for letting Quicken Loans help you with your mortgage. A team member will be with you shortly.  \n",
       "1                                        : All Mortgage Experts are currently busy. We will be with you as soon as a Team Member is available. You are number 3 in line. Thank you for your patience!  \n",
       "2                                        : All Mortgage Experts are currently busy. We will be with you as soon as a Team Member is available. You are number 3 in line. Thank you for your patience!  \n",
       "3                                                                                                                                                                                                  :   \n",
       "4    : For your security, if you would like to close the chat session please click the &quot;X&quot; button on the top right of the chat window.<br /><br />You are now chatting with Bethany Hall.\\r  \n",
       "5                                                                                                                                                                                                  :   \n",
       "6                                                          You: Hi.  Just wondering if rates are good enough for us to consider a refi?  we currently have a 30 year fixed with 3.875% interest rate.  \n",
       "7                Bethany Hall: <span>Hello! My name is Bethany Hall, I am a Servicing Advocate with Client Relations. I can help get you to the right place! Who am I speaking with today? </span> \\r  \n",
       "8                                                                                                                                                                                  You: This is Erica  \n",
       "9    Bethany Hall: Hi Erica! Thanks for reaching out. I can get you to a licensed loan specialist who can look into the current rates for you. Before I do, did you have any other questions today?\\r  \n",
       "10                                                                                                                                                    You: No, that is my only question. Thank you.\\r  "
      ]
     },
     "metadata": {},
     "output_type": "display_data"
    }
   ],
   "source": [
    "display(df)"
   ]
  },
  {
   "cell_type": "code",
   "execution_count": 14,
   "metadata": {
    "collapsed": true
   },
   "outputs": [],
   "source": [
    "df = df[[\"0\"]]"
   ]
  },
  {
   "cell_type": "code",
   "execution_count": 15,
   "metadata": {
    "collapsed": false,
    "scrolled": true
   },
   "outputs": [
    {
     "data": {
      "text/html": [
       "<div>\n",
       "<style scoped>\n",
       "    .dataframe tbody tr th:only-of-type {\n",
       "        vertical-align: middle;\n",
       "    }\n",
       "\n",
       "    .dataframe tbody tr th {\n",
       "        vertical-align: top;\n",
       "    }\n",
       "\n",
       "    .dataframe thead th {\n",
       "        text-align: right;\n",
       "    }\n",
       "</style>\n",
       "<table border=\"1\" class=\"dataframe\">\n",
       "  <thead>\n",
       "    <tr style=\"text-align: right;\">\n",
       "      <th></th>\n",
       "      <th>0</th>\n",
       "    </tr>\n",
       "  </thead>\n",
       "  <tbody>\n",
       "    <tr>\n",
       "      <th>0</th>\n",
       "      <td>: Thanks for letting Quicken Loans help you with your mortgage. A team member will be with you shortly.</td>\n",
       "    </tr>\n",
       "    <tr>\n",
       "      <th>1</th>\n",
       "      <td>: All Mortgage Experts are currently busy. We will be with you as soon as a Team Member is available. You are number 3 in line. Thank you for your patience!</td>\n",
       "    </tr>\n",
       "    <tr>\n",
       "      <th>2</th>\n",
       "      <td>: All Mortgage Experts are currently busy. We will be with you as soon as a Team Member is available. You are number 3 in line. Thank you for your patience!</td>\n",
       "    </tr>\n",
       "    <tr>\n",
       "      <th>3</th>\n",
       "      <td>:</td>\n",
       "    </tr>\n",
       "    <tr>\n",
       "      <th>4</th>\n",
       "      <td>: For your security, if you would like to close the chat session please click the &amp;quot;X&amp;quot; button on the top right of the chat window.&lt;br /&gt;&lt;br /&gt;You are now chatting with Bethany Hall.\\r</td>\n",
       "    </tr>\n",
       "    <tr>\n",
       "      <th>5</th>\n",
       "      <td>:</td>\n",
       "    </tr>\n",
       "    <tr>\n",
       "      <th>6</th>\n",
       "      <td>You: Hi.  Just wondering if rates are good enough for us to consider a refi?  we currently have a 30 year fixed with 3.875% interest rate.</td>\n",
       "    </tr>\n",
       "    <tr>\n",
       "      <th>7</th>\n",
       "      <td>Bethany Hall: &lt;span&gt;Hello! My name is Bethany Hall, I am a Servicing Advocate with Client Relations. I can help get you to the right place! Who am I speaking with today? &lt;/span&gt; \\r</td>\n",
       "    </tr>\n",
       "    <tr>\n",
       "      <th>8</th>\n",
       "      <td>You: This is Erica</td>\n",
       "    </tr>\n",
       "    <tr>\n",
       "      <th>9</th>\n",
       "      <td>Bethany Hall: Hi Erica! Thanks for reaching out. I can get you to a licensed loan specialist who can look into the current rates for you. Before I do, did you have any other questions today?\\r</td>\n",
       "    </tr>\n",
       "    <tr>\n",
       "      <th>10</th>\n",
       "      <td>You: No, that is my only question. Thank you.\\r</td>\n",
       "    </tr>\n",
       "  </tbody>\n",
       "</table>\n",
       "</div>"
      ],
      "text/plain": [
       "                                                                                                                                                                                                    0\n",
       "0                                                                                             : Thanks for letting Quicken Loans help you with your mortgage. A team member will be with you shortly.\n",
       "1                                        : All Mortgage Experts are currently busy. We will be with you as soon as a Team Member is available. You are number 3 in line. Thank you for your patience!\n",
       "2                                        : All Mortgage Experts are currently busy. We will be with you as soon as a Team Member is available. You are number 3 in line. Thank you for your patience!\n",
       "3                                                                                                                                                                                                  : \n",
       "4    : For your security, if you would like to close the chat session please click the &quot;X&quot; button on the top right of the chat window.<br /><br />You are now chatting with Bethany Hall.\\r\n",
       "5                                                                                                                                                                                                  : \n",
       "6                                                          You: Hi.  Just wondering if rates are good enough for us to consider a refi?  we currently have a 30 year fixed with 3.875% interest rate.\n",
       "7                Bethany Hall: <span>Hello! My name is Bethany Hall, I am a Servicing Advocate with Client Relations. I can help get you to the right place! Who am I speaking with today? </span> \\r\n",
       "8                                                                                                                                                                                  You: This is Erica\n",
       "9    Bethany Hall: Hi Erica! Thanks for reaching out. I can get you to a licensed loan specialist who can look into the current rates for you. Before I do, did you have any other questions today?\\r\n",
       "10                                                                                                                                                    You: No, that is my only question. Thank you.\\r"
      ]
     },
     "metadata": {},
     "output_type": "display_data"
    }
   ],
   "source": [
    "display(df)"
   ]
  },
  {
   "cell_type": "code",
   "execution_count": 17,
   "metadata": {
    "collapsed": false
   },
   "outputs": [],
   "source": [
    "#instantiate objects\n",
    "#term frequency–inverse document frequency\n",
    "from sklearn.feature_extraction.text import TfidfVectorizer\n",
    "vectorizer = TfidfVectorizer(stop_words='english')\n"
   ]
  },
  {
   "cell_type": "code",
   "execution_count": 18,
   "metadata": {
    "collapsed": true
   },
   "outputs": [],
   "source": [
    "#Running model - based on your word frequencies\n",
    "X = vectorizer.fit_transform(list(df[\"0\"]))"
   ]
  },
  {
   "cell_type": "code",
   "execution_count": 22,
   "metadata": {
    "collapsed": false
   },
   "outputs": [
    {
     "data": {
      "text/plain": [
       "(11, 63)"
      ]
     },
     "execution_count": 22,
     "metadata": {},
     "output_type": "execute_result"
    }
   ],
   "source": [
    "X.shape"
   ]
  },
  {
   "cell_type": "code",
   "execution_count": 24,
   "metadata": {
    "collapsed": false
   },
   "outputs": [
    {
     "data": {
      "text/plain": [
       "KMeans(algorithm='auto', copy_x=True, init='k-means++', max_iter=100,\n",
       "    n_clusters=2, n_init=1, n_jobs=1, precompute_distances='auto',\n",
       "    random_state=None, tol=0.0001, verbose=0)"
      ]
     },
     "execution_count": 24,
     "metadata": {},
     "output_type": "execute_result"
    }
   ],
   "source": [
    "#Kmeans checks the distance between vectors and tries to find groups of vectors that are close by\n",
    "\n",
    "from sklearn.cluster import KMeans\n",
    "\n",
    "#Instantiating\n",
    "\n",
    "true_k = 2\n",
    "model = KMeans(n_clusters=true_k, init='k-means++', max_iter=100, n_init=1)\n",
    "\n",
    "#training model to fix X data\n",
    "model.fit(X)"
   ]
  },
  {
   "cell_type": "code",
   "execution_count": 26,
   "metadata": {
    "collapsed": false
   },
   "outputs": [
    {
     "name": "stdout",
     "output_type": "stream",
     "text": [
      "Top terms per cluster:\n",
      "Cluster 0:\n",
      " thank\n",
      " member\n",
      " mortgage\n",
      " team\n",
      " question\n",
      " currently\n",
      " soon\n",
      " line\n",
      " patience\n",
      " busy\n",
      "Cluster 1:\n",
      " erica\n",
      " reaching\n",
      " current\n",
      " loan\n",
      " look\n",
      " questions\n",
      " did\n",
      " licensed\n",
      " specialist\n",
      " hi\n"
     ]
    }
   ],
   "source": [
    "print(\"Top terms per cluster:\")\n",
    "order_centroids = model.cluster_centers_.argsort()[:, ::-1]\n",
    "terms = vectorizer.get_feature_names()\n",
    "for i in range(true_k):\n",
    "    print (\"Cluster %d:\" % i)\n",
    "    for ind in order_centroids[i, :10]:\n",
    "        print (' %s' % terms[ind])\n",
    "    print"
   ]
  },
  {
   "cell_type": "code",
   "execution_count": 27,
   "metadata": {
    "collapsed": false
   },
   "outputs": [
    {
     "data": {
      "text/plain": [
       "array([0, 1, 1, 0, 0, 0, 0, 0, 0, 0, 0])"
      ]
     },
     "execution_count": 27,
     "metadata": {},
     "output_type": "execute_result"
    }
   ],
   "source": [
    "#Returns:    \n",
    "\n",
    "#labels : array, shape [n_samples,]\n",
    "\n",
    "#    Index of the cluster each sample belongs to.\n",
    "\n",
    "model.fit_predict(X)"
   ]
  },
  {
   "cell_type": "code",
   "execution_count": 28,
   "metadata": {
    "collapsed": false
   },
   "outputs": [
    {
     "name": "stdout",
     "output_type": "stream",
     "text": [
      "[0 0 0 0 0 0 0 1 0 0 0]\n"
     ]
    }
   ],
   "source": [
    "labels = model.fit_predict(X)\n",
    "print (labels)\n"
   ]
  },
  {
   "cell_type": "code",
   "execution_count": 29,
   "metadata": {
    "collapsed": false
   },
   "outputs": [
    {
     "data": {
      "text/html": [
       "<div>\n",
       "<style scoped>\n",
       "    .dataframe tbody tr th:only-of-type {\n",
       "        vertical-align: middle;\n",
       "    }\n",
       "\n",
       "    .dataframe tbody tr th {\n",
       "        vertical-align: top;\n",
       "    }\n",
       "\n",
       "    .dataframe thead th {\n",
       "        text-align: right;\n",
       "    }\n",
       "</style>\n",
       "<table border=\"1\" class=\"dataframe\">\n",
       "  <thead>\n",
       "    <tr style=\"text-align: right;\">\n",
       "      <th></th>\n",
       "      <th>0</th>\n",
       "    </tr>\n",
       "  </thead>\n",
       "  <tbody>\n",
       "    <tr>\n",
       "      <th>0</th>\n",
       "      <td>: Thanks for letting Quicken Loans help you with your mortgage. A team member will be with you shortly.</td>\n",
       "    </tr>\n",
       "    <tr>\n",
       "      <th>1</th>\n",
       "      <td>: All Mortgage Experts are currently busy. We will be with you as soon as a Team Member is available. You are number 3 in line. Thank you for your patience!</td>\n",
       "    </tr>\n",
       "    <tr>\n",
       "      <th>2</th>\n",
       "      <td>: All Mortgage Experts are currently busy. We will be with you as soon as a Team Member is available. You are number 3 in line. Thank you for your patience!</td>\n",
       "    </tr>\n",
       "    <tr>\n",
       "      <th>3</th>\n",
       "      <td>:</td>\n",
       "    </tr>\n",
       "    <tr>\n",
       "      <th>4</th>\n",
       "      <td>: For your security, if you would like to close the chat session please click the &amp;quot;X&amp;quot; button on the top right of the chat window.&lt;br /&gt;&lt;br /&gt;You are now chatting with Bethany Hall.\\r</td>\n",
       "    </tr>\n",
       "    <tr>\n",
       "      <th>5</th>\n",
       "      <td>:</td>\n",
       "    </tr>\n",
       "    <tr>\n",
       "      <th>6</th>\n",
       "      <td>You: Hi.  Just wondering if rates are good enough for us to consider a refi?  we currently have a 30 year fixed with 3.875% interest rate.</td>\n",
       "    </tr>\n",
       "    <tr>\n",
       "      <th>8</th>\n",
       "      <td>You: This is Erica</td>\n",
       "    </tr>\n",
       "    <tr>\n",
       "      <th>9</th>\n",
       "      <td>Bethany Hall: Hi Erica! Thanks for reaching out. I can get you to a licensed loan specialist who can look into the current rates for you. Before I do, did you have any other questions today?\\r</td>\n",
       "    </tr>\n",
       "    <tr>\n",
       "      <th>10</th>\n",
       "      <td>You: No, that is my only question. Thank you.\\r</td>\n",
       "    </tr>\n",
       "  </tbody>\n",
       "</table>\n",
       "</div>"
      ],
      "text/plain": [
       "                                                                                                                                                                                                    0\n",
       "0                                                                                             : Thanks for letting Quicken Loans help you with your mortgage. A team member will be with you shortly.\n",
       "1                                        : All Mortgage Experts are currently busy. We will be with you as soon as a Team Member is available. You are number 3 in line. Thank you for your patience!\n",
       "2                                        : All Mortgage Experts are currently busy. We will be with you as soon as a Team Member is available. You are number 3 in line. Thank you for your patience!\n",
       "3                                                                                                                                                                                                  : \n",
       "4    : For your security, if you would like to close the chat session please click the &quot;X&quot; button on the top right of the chat window.<br /><br />You are now chatting with Bethany Hall.\\r\n",
       "5                                                                                                                                                                                                  : \n",
       "6                                                          You: Hi.  Just wondering if rates are good enough for us to consider a refi?  we currently have a 30 year fixed with 3.875% interest rate.\n",
       "8                                                                                                                                                                                  You: This is Erica\n",
       "9    Bethany Hall: Hi Erica! Thanks for reaching out. I can get you to a licensed loan specialist who can look into the current rates for you. Before I do, did you have any other questions today?\\r\n",
       "10                                                                                                                                                    You: No, that is my only question. Thank you.\\r"
      ]
     },
     "execution_count": 29,
     "metadata": {},
     "output_type": "execute_result"
    }
   ],
   "source": [
    "df.loc[labels==0]"
   ]
  },
  {
   "cell_type": "code",
   "execution_count": 30,
   "metadata": {
    "collapsed": false
   },
   "outputs": [
    {
     "data": {
      "text/html": [
       "<div>\n",
       "<style scoped>\n",
       "    .dataframe tbody tr th:only-of-type {\n",
       "        vertical-align: middle;\n",
       "    }\n",
       "\n",
       "    .dataframe tbody tr th {\n",
       "        vertical-align: top;\n",
       "    }\n",
       "\n",
       "    .dataframe thead th {\n",
       "        text-align: right;\n",
       "    }\n",
       "</style>\n",
       "<table border=\"1\" class=\"dataframe\">\n",
       "  <thead>\n",
       "    <tr style=\"text-align: right;\">\n",
       "      <th></th>\n",
       "      <th>0</th>\n",
       "    </tr>\n",
       "  </thead>\n",
       "  <tbody>\n",
       "    <tr>\n",
       "      <th>7</th>\n",
       "      <td>Bethany Hall: &lt;span&gt;Hello! My name is Bethany Hall, I am a Servicing Advocate with Client Relations. I can help get you to the right place! Who am I speaking with today? &lt;/span&gt; \\r</td>\n",
       "    </tr>\n",
       "  </tbody>\n",
       "</table>\n",
       "</div>"
      ],
      "text/plain": [
       "                                                                                                                                                                                       0\n",
       "7   Bethany Hall: <span>Hello! My name is Bethany Hall, I am a Servicing Advocate with Client Relations. I can help get you to the right place! Who am I speaking with today? </span> \\r"
      ]
     },
     "execution_count": 30,
     "metadata": {},
     "output_type": "execute_result"
    }
   ],
   "source": [
    "df.loc[labels==1]"
   ]
  },
  {
   "cell_type": "code",
   "execution_count": 40,
   "metadata": {
    "collapsed": false,
    "scrolled": true
   },
   "outputs": [
    {
     "data": {
      "text/html": [
       "<div>\n",
       "<style scoped>\n",
       "    .dataframe tbody tr th:only-of-type {\n",
       "        vertical-align: middle;\n",
       "    }\n",
       "\n",
       "    .dataframe tbody tr th {\n",
       "        vertical-align: top;\n",
       "    }\n",
       "\n",
       "    .dataframe thead th {\n",
       "        text-align: right;\n",
       "    }\n",
       "</style>\n",
       "<table border=\"1\" class=\"dataframe\">\n",
       "  <thead>\n",
       "    <tr style=\"text-align: right;\">\n",
       "      <th></th>\n",
       "      <th>0</th>\n",
       "    </tr>\n",
       "  </thead>\n",
       "  <tbody>\n",
       "    <tr>\n",
       "      <th>0</th>\n",
       "      <td>: Thanks for letting Quicken Loans help you with your mortgage. A team member will be with you shortly.</td>\n",
       "    </tr>\n",
       "    <tr>\n",
       "      <th>1</th>\n",
       "      <td>: All Mortgage Experts are currently busy. We will be with you as soon as a Team Member is available. You are number 3 in line. Thank you for your patience!</td>\n",
       "    </tr>\n",
       "    <tr>\n",
       "      <th>2</th>\n",
       "      <td>: All Mortgage Experts are currently busy. We will be with you as soon as a Team Member is available. You are number 3 in line. Thank you for your patience!</td>\n",
       "    </tr>\n",
       "    <tr>\n",
       "      <th>3</th>\n",
       "      <td>:</td>\n",
       "    </tr>\n",
       "    <tr>\n",
       "      <th>4</th>\n",
       "      <td>: For your security, if you would like to close the chat session please click the &amp;quot;X&amp;quot; button on the top right of the chat window.&lt;br /&gt;&lt;br /&gt;You are now chatting with Bethany Hall.\\r</td>\n",
       "    </tr>\n",
       "    <tr>\n",
       "      <th>5</th>\n",
       "      <td>:</td>\n",
       "    </tr>\n",
       "    <tr>\n",
       "      <th>6</th>\n",
       "      <td>You: Hi.  Just wondering if rates are good enough for us to consider a refi?  we currently have a 30 year fixed with 3.875% interest rate.</td>\n",
       "    </tr>\n",
       "    <tr>\n",
       "      <th>8</th>\n",
       "      <td>You: This is Erica</td>\n",
       "    </tr>\n",
       "    <tr>\n",
       "      <th>9</th>\n",
       "      <td>Bethany Hall: Hi Erica! Thanks for reaching out. I can get you to a licensed loan specialist who can look into the current rates for you. Before I do, did you have any other questions today?\\r</td>\n",
       "    </tr>\n",
       "    <tr>\n",
       "      <th>10</th>\n",
       "      <td>You: No, that is my only question. Thank you.\\r</td>\n",
       "    </tr>\n",
       "  </tbody>\n",
       "</table>\n",
       "</div>"
      ],
      "text/plain": [
       "                                                                                                                                                                                                    0\n",
       "0                                                                                             : Thanks for letting Quicken Loans help you with your mortgage. A team member will be with you shortly.\n",
       "1                                        : All Mortgage Experts are currently busy. We will be with you as soon as a Team Member is available. You are number 3 in line. Thank you for your patience!\n",
       "2                                        : All Mortgage Experts are currently busy. We will be with you as soon as a Team Member is available. You are number 3 in line. Thank you for your patience!\n",
       "3                                                                                                                                                                                                  : \n",
       "4    : For your security, if you would like to close the chat session please click the &quot;X&quot; button on the top right of the chat window.<br /><br />You are now chatting with Bethany Hall.\\r\n",
       "5                                                                                                                                                                                                  : \n",
       "6                                                          You: Hi.  Just wondering if rates are good enough for us to consider a refi?  we currently have a 30 year fixed with 3.875% interest rate.\n",
       "8                                                                                                                                                                                  You: This is Erica\n",
       "9    Bethany Hall: Hi Erica! Thanks for reaching out. I can get you to a licensed loan specialist who can look into the current rates for you. Before I do, did you have any other questions today?\\r\n",
       "10                                                                                                                                                    You: No, that is my only question. Thank you.\\r"
      ]
     },
     "metadata": {},
     "output_type": "display_data"
    },
    {
     "data": {
      "text/html": [
       "<div>\n",
       "<style scoped>\n",
       "    .dataframe tbody tr th:only-of-type {\n",
       "        vertical-align: middle;\n",
       "    }\n",
       "\n",
       "    .dataframe tbody tr th {\n",
       "        vertical-align: top;\n",
       "    }\n",
       "\n",
       "    .dataframe thead th {\n",
       "        text-align: right;\n",
       "    }\n",
       "</style>\n",
       "<table border=\"1\" class=\"dataframe\">\n",
       "  <thead>\n",
       "    <tr style=\"text-align: right;\">\n",
       "      <th></th>\n",
       "      <th>0</th>\n",
       "    </tr>\n",
       "  </thead>\n",
       "  <tbody>\n",
       "    <tr>\n",
       "      <th>7</th>\n",
       "      <td>Bethany Hall: &lt;span&gt;Hello! My name is Bethany Hall, I am a Servicing Advocate with Client Relations. I can help get you to the right place! Who am I speaking with today? &lt;/span&gt; \\r</td>\n",
       "    </tr>\n",
       "  </tbody>\n",
       "</table>\n",
       "</div>"
      ],
      "text/plain": [
       "                                                                                                                                                                                       0\n",
       "7   Bethany Hall: <span>Hello! My name is Bethany Hall, I am a Servicing Advocate with Client Relations. I can help get you to the right place! Who am I speaking with today? </span> \\r"
      ]
     },
     "metadata": {},
     "output_type": "display_data"
    }
   ],
   "source": [
    "import numpy as np \n",
    "\n",
    "for cluster in np.unique(labels):\n",
    "    \n",
    "     display (df.loc[labels==cluster])\n",
    "\n",
    "    "
   ]
  },
  {
   "cell_type": "code",
   "execution_count": 47,
   "metadata": {
    "collapsed": false
   },
   "outputs": [
    {
     "data": {
      "text/html": [
       "<div>\n",
       "<style scoped>\n",
       "    .dataframe tbody tr th:only-of-type {\n",
       "        vertical-align: middle;\n",
       "    }\n",
       "\n",
       "    .dataframe tbody tr th {\n",
       "        vertical-align: top;\n",
       "    }\n",
       "\n",
       "    .dataframe thead th {\n",
       "        text-align: right;\n",
       "    }\n",
       "</style>\n",
       "<table border=\"1\" class=\"dataframe\">\n",
       "  <thead>\n",
       "    <tr style=\"text-align: right;\">\n",
       "      <th></th>\n",
       "      <th>0</th>\n",
       "    </tr>\n",
       "  </thead>\n",
       "  <tbody>\n",
       "    <tr>\n",
       "      <th>9</th>\n",
       "      <td>Bethany Hall: Hi Erica! Thanks for reaching out. I can get you to a licensed loan specialist who can look into the current rates for you. Before I do, did you have any other questions today?\\r</td>\n",
       "    </tr>\n",
       "    <tr>\n",
       "      <th>1</th>\n",
       "      <td>: All Mortgage Experts are currently busy. We will be with you as soon as a Team Member is available. You are number 3 in line. Thank you for your patience!</td>\n",
       "    </tr>\n",
       "    <tr>\n",
       "      <th>4</th>\n",
       "      <td>: For your security, if you would like to close the chat session please click the &amp;quot;X&amp;quot; button on the top right of the chat window.&lt;br /&gt;&lt;br /&gt;You are now chatting with Bethany Hall.\\r</td>\n",
       "    </tr>\n",
       "  </tbody>\n",
       "</table>\n",
       "</div>"
      ],
      "text/plain": [
       "                                                                                                                                                                                                   0\n",
       "9   Bethany Hall: Hi Erica! Thanks for reaching out. I can get you to a licensed loan specialist who can look into the current rates for you. Before I do, did you have any other questions today?\\r\n",
       "1                                       : All Mortgage Experts are currently busy. We will be with you as soon as a Team Member is available. You are number 3 in line. Thank you for your patience!\n",
       "4   : For your security, if you would like to close the chat session please click the &quot;X&quot; button on the top right of the chat window.<br /><br />You are now chatting with Bethany Hall.\\r"
      ]
     },
     "metadata": {},
     "output_type": "display_data"
    },
    {
     "data": {
      "text/html": [
       "<div>\n",
       "<style scoped>\n",
       "    .dataframe tbody tr th:only-of-type {\n",
       "        vertical-align: middle;\n",
       "    }\n",
       "\n",
       "    .dataframe tbody tr th {\n",
       "        vertical-align: top;\n",
       "    }\n",
       "\n",
       "    .dataframe thead th {\n",
       "        text-align: right;\n",
       "    }\n",
       "</style>\n",
       "<table border=\"1\" class=\"dataframe\">\n",
       "  <thead>\n",
       "    <tr style=\"text-align: right;\">\n",
       "      <th></th>\n",
       "      <th>0</th>\n",
       "    </tr>\n",
       "  </thead>\n",
       "  <tbody>\n",
       "    <tr>\n",
       "      <th>7</th>\n",
       "      <td>Bethany Hall: &lt;span&gt;Hello! My name is Bethany Hall, I am a Servicing Advocate with Client Relations. I can help get you to the right place! Who am I speaking with today? &lt;/span&gt; \\r</td>\n",
       "    </tr>\n",
       "    <tr>\n",
       "      <th>7</th>\n",
       "      <td>Bethany Hall: &lt;span&gt;Hello! My name is Bethany Hall, I am a Servicing Advocate with Client Relations. I can help get you to the right place! Who am I speaking with today? &lt;/span&gt; \\r</td>\n",
       "    </tr>\n",
       "    <tr>\n",
       "      <th>7</th>\n",
       "      <td>Bethany Hall: &lt;span&gt;Hello! My name is Bethany Hall, I am a Servicing Advocate with Client Relations. I can help get you to the right place! Who am I speaking with today? &lt;/span&gt; \\r</td>\n",
       "    </tr>\n",
       "  </tbody>\n",
       "</table>\n",
       "</div>"
      ],
      "text/plain": [
       "                                                                                                                                                                                       0\n",
       "7   Bethany Hall: <span>Hello! My name is Bethany Hall, I am a Servicing Advocate with Client Relations. I can help get you to the right place! Who am I speaking with today? </span> \\r\n",
       "7   Bethany Hall: <span>Hello! My name is Bethany Hall, I am a Servicing Advocate with Client Relations. I can help get you to the right place! Who am I speaking with today? </span> \\r\n",
       "7   Bethany Hall: <span>Hello! My name is Bethany Hall, I am a Servicing Advocate with Client Relations. I can help get you to the right place! Who am I speaking with today? </span> \\r"
      ]
     },
     "metadata": {},
     "output_type": "display_data"
    }
   ],
   "source": [
    "for cluster in np.unique(labels):\n",
    "    sentence_for_cluster = df.loc[labels == cluster]\n",
    "    random_sample = sentence_for_cluster.sample(3, replace=True)\n",
    "    display (random_sample)"
   ]
  },
  {
   "cell_type": "code",
   "execution_count": null,
   "metadata": {
    "collapsed": true
   },
   "outputs": [],
   "source": [
    "display (random)"
   ]
  }
 ],
 "metadata": {
  "anaconda-cloud": {},
  "kernelspec": {
   "display_name": "Python [default]",
   "language": "python",
   "name": "python3"
  },
  "language_info": {
   "codemirror_mode": {
    "name": "ipython",
    "version": 3
   },
   "file_extension": ".py",
   "mimetype": "text/x-python",
   "name": "python",
   "nbconvert_exporter": "python",
   "pygments_lexer": "ipython3",
   "version": "3.5.2"
  }
 },
 "nbformat": 4,
 "nbformat_minor": 2
}
